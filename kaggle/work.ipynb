{
 "cells": [
  {
   "cell_type": "markdown",
   "metadata": {},
   "source": [
    "# Using VGG16 to solve Kaggle's Dogs vs Cats problem"
   ]
  },
  {
   "cell_type": "code",
   "execution_count": 7,
   "metadata": {
    "collapsed": false,
    "hidden": true
   },
   "outputs": [],
   "source": [
    "%matplotlib inline"
   ]
  },
  {
   "cell_type": "code",
   "execution_count": 8,
   "metadata": {
    "collapsed": true,
    "hidden": true
   },
   "outputs": [],
   "source": [
    "# path = \"\"\n",
    "path = \"sample/\""
   ]
  },
  {
   "cell_type": "markdown",
   "metadata": {
    "hidden": true
   },
   "source": [
    "A few basic libraries that we'll need for the initial exercises:"
   ]
  },
  {
   "cell_type": "code",
   "execution_count": 9,
   "metadata": {
    "collapsed": true,
    "hidden": true
   },
   "outputs": [],
   "source": [
    "from __future__ import division,print_function\n",
    "\n",
    "import os, json, csv\n",
    "from glob import glob\n",
    "import numpy as np\n",
    "np.set_printoptions(precision=4, linewidth=100)\n",
    "from matplotlib import pyplot as plt"
   ]
  },
  {
   "cell_type": "markdown",
   "metadata": {
    "hidden": true
   },
   "source": [
    "We have created a file most imaginatively called 'utils.py' to store any little convenience functions we'll want to use. We will discuss these as we use them."
   ]
  },
  {
   "cell_type": "code",
   "execution_count": 10,
   "metadata": {
    "collapsed": false,
    "hidden": true,
    "scrolled": false
   },
   "outputs": [],
   "source": [
    "from imp import reload\n",
    "import utils; reload(utils)\n",
    "from utils import plots"
   ]
  },
  {
   "cell_type": "markdown",
   "metadata": {},
   "source": [
    "# Use a pretrained VGG model with our **Vgg16** class"
   ]
  },
  {
   "cell_type": "markdown",
   "metadata": {},
   "source": [
    "Our first step is simply to use a model that has been fully created for us, which can recognise a wide variety (1,000 categories) of images. We will use 'VGG', which won the 2014 Imagenet competition, and is a very simple model to create and understand. The VGG Imagenet team created both a larger, slower, slightly more accurate model (*VGG  19*) and a smaller, faster model (*VGG 16*). We will be using VGG 16 since the much slower performance of VGG19 is generally not worth the very minor improvement in accuracy.\n",
    "\n",
    "We have created a python class, *Vgg16*, which makes using the VGG 16 model very straightforward. "
   ]
  },
  {
   "cell_type": "markdown",
   "metadata": {
    "heading_collapsed": true
   },
   "source": [
    "## The punchline: state of the art custom model in 7 lines of code\n",
    "\n",
    "Here's everything you need to do to get >97% accuracy on the Dogs vs Cats dataset - we won't analyze how it works behind the scenes yet, since at this stage we're just going to focus on the minimum necessary to actually do useful work."
   ]
  },
  {
   "cell_type": "code",
   "execution_count": 11,
   "metadata": {
    "collapsed": true,
    "hidden": true
   },
   "outputs": [],
   "source": [
    "# As large as you can, but no larger than 64 is recommended. \n",
    "# If you have an older or cheaper GPU, you'll run out of memory, so will have to decrease this.\n",
    "batch_size=64"
   ]
  },
  {
   "cell_type": "code",
   "execution_count": 12,
   "metadata": {
    "collapsed": false,
    "hidden": true
   },
   "outputs": [],
   "source": [
    "# Import our class, and instantiate\n",
    "from vgg16 import Vgg16"
   ]
  },
  {
   "cell_type": "markdown",
   "metadata": {},
   "source": [
    "## Use Vgg16 for basic image recognition"
   ]
  },
  {
   "cell_type": "code",
   "execution_count": 13,
   "metadata": {
    "collapsed": false
   },
   "outputs": [],
   "source": [
    "vgg = Vgg16()"
   ]
  },
  {
   "cell_type": "code",
   "execution_count": 14,
   "metadata": {
    "collapsed": false
   },
   "outputs": [
    {
     "name": "stdout",
     "output_type": "stream",
     "text": [
      "Found 88 images belonging to 2 classes.\n",
      "Found 128 images belonging to 2 classes.\n",
      "Found 100 images belonging to 1 classes.\n"
     ]
    }
   ],
   "source": [
    "batches = vgg.get_batches(path+'train', batch_size=batch_size)\n",
    "val_batches = vgg.get_batches(path+'valid', batch_size=batch_size)\n",
    "test_batches = vgg.get_batches(path+'test', batch_size=batch_size, shuffle=False)\n",
    "file_ids = list(map(lambda x: x.split(\"/\")[1].replace(\".jpg\", \"\"), test_batches.filenames))"
   ]
  },
  {
   "cell_type": "code",
   "execution_count": 15,
   "metadata": {
    "collapsed": false
   },
   "outputs": [],
   "source": [
    "vgg.finetune(batches)"
   ]
  },
  {
   "cell_type": "code",
   "execution_count": 16,
   "metadata": {
    "collapsed": false
   },
   "outputs": [
    {
     "name": "stdout",
     "output_type": "stream",
     "text": [
      "Epoch 1/1\n",
      "88/88 [==============================] - 215s - loss: 2.4751 - acc: 0.5682 - val_loss: 3.5816 - val_acc: 0.7734\n"
     ]
    }
   ],
   "source": [
    "vgg.fit(batches, val_batches, nb_epoch=1)"
   ]
  },
  {
   "cell_type": "code",
   "execution_count": 17,
   "metadata": {
    "collapsed": false
   },
   "outputs": [
    {
     "data": {
      "text/plain": [
       "array([[  1.0000e+00,   0.0000e+00],\n",
       "       [  1.0000e+00,   0.0000e+00],\n",
       "       [  1.0000e+00,   9.7317e-24],\n",
       "       [  1.0000e+00,   0.0000e+00],\n",
       "       [  1.0000e+00,   0.0000e+00],\n",
       "       [  1.0000e+00,   0.0000e+00],\n",
       "       [  1.0000e+00,   0.0000e+00],\n",
       "       [  1.0000e+00,   0.0000e+00],\n",
       "       [  1.0000e+00,   0.0000e+00],\n",
       "       [  0.0000e+00,   1.0000e+00],\n",
       "       [  9.1529e-35,   1.0000e+00],\n",
       "       [  1.0000e+00,   0.0000e+00],\n",
       "       [  8.7352e-33,   1.0000e+00],\n",
       "       [  1.0000e+00,   0.0000e+00],\n",
       "       [  1.0000e+00,   0.0000e+00],\n",
       "       [  1.0000e+00,   0.0000e+00],\n",
       "       [  1.0000e+00,   0.0000e+00],\n",
       "       [  1.0000e+00,   0.0000e+00],\n",
       "       [  1.0000e+00,   0.0000e+00],\n",
       "       [  1.0000e+00,   5.4480e-11],\n",
       "       [  1.7348e-06,   1.0000e+00],\n",
       "       [  1.0000e+00,   0.0000e+00],\n",
       "       [  1.0000e+00,   0.0000e+00],\n",
       "       [  1.0000e+00,   0.0000e+00],\n",
       "       [  1.0000e+00,   0.0000e+00],\n",
       "       [  0.0000e+00,   1.0000e+00],\n",
       "       [  1.0000e+00,   0.0000e+00],\n",
       "       [  1.0000e+00,   0.0000e+00],\n",
       "       [  1.0000e+00,   2.9448e-25],\n",
       "       [  0.0000e+00,   1.0000e+00],\n",
       "       [  3.9549e-06,   1.0000e+00],\n",
       "       [  1.0000e+00,   0.0000e+00],\n",
       "       [  0.0000e+00,   1.0000e+00],\n",
       "       [  0.0000e+00,   1.0000e+00],\n",
       "       [  1.0000e+00,   0.0000e+00],\n",
       "       [  1.0000e+00,   0.0000e+00],\n",
       "       [  1.0000e+00,   0.0000e+00],\n",
       "       [  8.9403e-43,   1.0000e+00],\n",
       "       [  0.0000e+00,   1.0000e+00],\n",
       "       [  1.0000e+00,   0.0000e+00],\n",
       "       [  0.0000e+00,   1.0000e+00],\n",
       "       [  1.0000e+00,   0.0000e+00],\n",
       "       [  1.2944e-05,   9.9999e-01],\n",
       "       [  1.0000e+00,   5.6501e-10],\n",
       "       [  0.0000e+00,   1.0000e+00],\n",
       "       [  5.6322e-26,   1.0000e+00],\n",
       "       [  1.0000e+00,   0.0000e+00],\n",
       "       [  0.0000e+00,   1.0000e+00],\n",
       "       [  1.0000e+00,   0.0000e+00],\n",
       "       [  1.0000e+00,   0.0000e+00],\n",
       "       [  1.0000e+00,   0.0000e+00],\n",
       "       [  1.0000e+00,   0.0000e+00],\n",
       "       [  1.0000e+00,   0.0000e+00],\n",
       "       [  0.0000e+00,   1.0000e+00],\n",
       "       [  0.0000e+00,   1.0000e+00],\n",
       "       [  1.0000e+00,   0.0000e+00],\n",
       "       [  1.0000e+00,   0.0000e+00],\n",
       "       [  1.0000e+00,   0.0000e+00],\n",
       "       [  1.0000e+00,   0.0000e+00],\n",
       "       [  1.0000e+00,   0.0000e+00],\n",
       "       [  1.0000e+00,   0.0000e+00],\n",
       "       [  1.0000e+00,   0.0000e+00],\n",
       "       [  5.4080e-32,   1.0000e+00],\n",
       "       [  1.0000e+00,   0.0000e+00],\n",
       "       [  1.0000e+00,   0.0000e+00],\n",
       "       [  1.0000e+00,   0.0000e+00],\n",
       "       [  1.0000e+00,   0.0000e+00],\n",
       "       [  6.2765e-27,   1.0000e+00],\n",
       "       [  1.0000e+00,   0.0000e+00],\n",
       "       [  6.6736e-08,   1.0000e+00],\n",
       "       [  1.0000e+00,   0.0000e+00],\n",
       "       [  1.0000e+00,   0.0000e+00],\n",
       "       [  1.0000e+00,   0.0000e+00],\n",
       "       [  1.0000e+00,   0.0000e+00],\n",
       "       [  1.0000e+00,   0.0000e+00],\n",
       "       [  1.0000e+00,   0.0000e+00],\n",
       "       [  1.0000e+00,   0.0000e+00],\n",
       "       [  1.0000e+00,   0.0000e+00],\n",
       "       [  1.0000e+00,   2.1117e-15],\n",
       "       [  1.0000e+00,   0.0000e+00],\n",
       "       [  1.0000e+00,   0.0000e+00],\n",
       "       [  1.0000e+00,   0.0000e+00],\n",
       "       [  0.0000e+00,   1.0000e+00],\n",
       "       [  1.0000e+00,   0.0000e+00],\n",
       "       [  0.0000e+00,   1.0000e+00],\n",
       "       [  2.2249e-10,   1.0000e+00],\n",
       "       [  1.6976e-01,   8.3024e-01],\n",
       "       [  0.0000e+00,   1.0000e+00],\n",
       "       [  1.0000e+00,   0.0000e+00],\n",
       "       [  1.0000e+00,   0.0000e+00],\n",
       "       [  0.0000e+00,   1.0000e+00],\n",
       "       [  1.0000e+00,   0.0000e+00],\n",
       "       [  0.0000e+00,   1.0000e+00],\n",
       "       [  0.0000e+00,   1.0000e+00],\n",
       "       [  1.0000e+00,   0.0000e+00],\n",
       "       [  1.0000e+00,   0.0000e+00],\n",
       "       [  0.0000e+00,   1.0000e+00],\n",
       "       [  1.0000e+00,   0.0000e+00],\n",
       "       [  1.0000e+00,   0.0000e+00],\n",
       "       [  1.0000e+00,   0.0000e+00]], dtype=float32)"
      ]
     },
     "execution_count": 17,
     "metadata": {},
     "output_type": "execute_result"
    }
   ],
   "source": [
    "predictions = vgg.model.predict_generator(test_batches, len(test_batches.filenames), max_q_size=batch_size*2)"
   ]
  },
  {
   "cell_type": "code",
   "execution_count": 52,
   "metadata": {
    "collapsed": false
   },
   "outputs": [
    {
     "data": {
      "text/plain": [
       "array([['1600', '1.0'],\n",
       "       ['1601', '1.0'],\n",
       "       ['1602', '1.0'],\n",
       "       ['1603', '1.0'],\n",
       "       ['1604', '1.0'],\n",
       "       ['1605', '1.0'],\n",
       "       ['1606', '1.0'],\n",
       "       ['1607', '1.0'],\n",
       "       ['1608', '1.0'],\n",
       "       ['1609', '0.0'],\n",
       "       ['1610', '9.1529333832956e-35'],\n",
       "       ['1611', '1.0'],\n",
       "       ['1612', '8.735198437980238e-33'],\n",
       "       ['1613', '1.0'],\n",
       "       ['1614', '1.0'],\n",
       "       ['1615', '1.0'],\n",
       "       ['1616', '1.0'],\n",
       "       ['1617', '1.0'],\n",
       "       ['1618', '1.0'],\n",
       "       ['1619', '1.0'],\n",
       "       ['1620', '1.7348360188407241e-06'],\n",
       "       ['1621', '1.0'],\n",
       "       ['1622', '1.0'],\n",
       "       ['1623', '1.0'],\n",
       "       ['1624', '1.0'],\n",
       "       ['1625', '0.0'],\n",
       "       ['1626', '1.0'],\n",
       "       ['1627', '1.0'],\n",
       "       ['1628', '1.0'],\n",
       "       ['1629', '0.0'],\n",
       "       ['1630', '3.954898147640051e-06'],\n",
       "       ['1631', '1.0'],\n",
       "       ['1632', '0.0'],\n",
       "       ['1633', '0.0'],\n",
       "       ['1634', '1.0'],\n",
       "       ['1635', '1.0'],\n",
       "       ['1636', '1.0'],\n",
       "       ['1637', '8.940284202392333e-43'],\n",
       "       ['1638', '0.0'],\n",
       "       ['1639', '1.0'],\n",
       "       ['1640', '0.0'],\n",
       "       ['1641', '1.0'],\n",
       "       ['1642', '1.2944007721671369e-05'],\n",
       "       ['1643', '1.0'],\n",
       "       ['1644', '0.0'],\n",
       "       ['1645', '5.632169807843402e-26'],\n",
       "       ['1646', '1.0'],\n",
       "       ['1647', '0.0'],\n",
       "       ['1648', '1.0'],\n",
       "       ['1649', '1.0'],\n",
       "       ['1650', '1.0'],\n",
       "       ['1651', '1.0'],\n",
       "       ['1652', '1.0'],\n",
       "       ['1653', '0.0'],\n",
       "       ['1654', '0.0'],\n",
       "       ['1655', '1.0'],\n",
       "       ['1656', '1.0'],\n",
       "       ['1657', '1.0'],\n",
       "       ['1658', '1.0'],\n",
       "       ['1659', '1.0'],\n",
       "       ['1660', '1.0'],\n",
       "       ['1661', '1.0'],\n",
       "       ['1662', '5.408005759015909e-32'],\n",
       "       ['1663', '1.0'],\n",
       "       ['1664', '1.0'],\n",
       "       ['1665', '1.0'],\n",
       "       ['1666', '1.0'],\n",
       "       ['1667', '6.276452769920417e-27'],\n",
       "       ['1668', '1.0'],\n",
       "       ['1669', '6.67364545847704e-08'],\n",
       "       ['1670', '1.0'],\n",
       "       ['1671', '1.0'],\n",
       "       ['1672', '1.0'],\n",
       "       ['1673', '1.0'],\n",
       "       ['1674', '1.0'],\n",
       "       ['1675', '1.0'],\n",
       "       ['1676', '1.0'],\n",
       "       ['1677', '1.0'],\n",
       "       ['1678', '1.0'],\n",
       "       ['1679', '1.0'],\n",
       "       ['1680', '1.0'],\n",
       "       ['1681', '1.0'],\n",
       "       ['1682', '0.0'],\n",
       "       ['1683', '1.0'],\n",
       "       ['1684', '0.0'],\n",
       "       ['1685', '2.2248615449971254e-10'],\n",
       "       ['1686', '0.16976335644721985'],\n",
       "       ['1687', '0.0'],\n",
       "       ['1688', '1.0'],\n",
       "       ['1689', '1.0'],\n",
       "       ['1690', '0.0'],\n",
       "       ['1691', '1.0'],\n",
       "       ['1692', '0.0'],\n",
       "       ['1693', '0.0'],\n",
       "       ['1694', '1.0'],\n",
       "       ['1695', '1.0'],\n",
       "       ['1696', '0.0'],\n",
       "       ['1697', '1.0'],\n",
       "       ['1698', '1.0'],\n",
       "       ['1699', '1.0']], \n",
       "      dtype='<U32')"
      ]
     },
     "execution_count": 52,
     "metadata": {},
     "output_type": "execute_result"
    }
   ],
   "source": [
    "csvfile = open('submission.csv', 'w')\n",
    "writer = csv.writer(csvfile, delimiter=\",\")\n",
    "\n",
    "preds = predictions[:]\n",
    "preds = np.delete(preds, 1, axis=1)\n",
    "np.column_stack((file_ids, preds.flatten()))"
   ]
  },
  {
   "cell_type": "code",
   "execution_count": null,
   "metadata": {
    "collapsed": false
   },
   "outputs": [],
   "source": [
    "csvfile = open('submission.csv', 'w')\n",
    "writer = csv.writer(csvfile, delimiter=\",\")\n",
    "index = 0\n",
    "batch_count = 0\n",
    "results = []\n",
    "print(\"total length: %d\" % (len(file_ids)))\n",
    "\n",
    "batch,labels = next(test_batches, None)\n",
    "while(batch is not None and len(batch) > 0 and index < len(file_ids)):\n",
    "    preds, idxs, labels = vgg.predict(batch, False)\n",
    "    for img_class in idxs:\n",
    "        writer.writerow([file_ids[index], img_class])b\n",
    "        index = index + 1\n",
    "    batch_count = batch_count + 1\n",
    "    batch,labels = next(test_batches, None)\n",
    "\n",
    "print(\"total batches: %s\" % (batch_count, index))\n",
    "csvfile.close()"
   ]
  }
 ],
 "metadata": {
  "anaconda-cloud": {},
  "kernelspec": {
   "display_name": "Python 3",
   "language": "python",
   "name": "python3"
  },
  "language_info": {
   "codemirror_mode": {
    "name": "ipython",
    "version": 3
   },
   "file_extension": ".py",
   "mimetype": "text/x-python",
   "name": "python",
   "nbconvert_exporter": "python",
   "pygments_lexer": "ipython3",
   "version": "3.5.1"
  },
  "nav_menu": {},
  "nbpresent": {
   "slides": {
    "28b43202-5690-4169-9aca-6b9dabfeb3ec": {
     "id": "28b43202-5690-4169-9aca-6b9dabfeb3ec",
     "prev": null,
     "regions": {
      "3bba644a-cf4d-4a49-9fbd-e2554428cf9f": {
       "attrs": {
        "height": 0.8,
        "width": 0.8,
        "x": 0.1,
        "y": 0.1
       },
       "content": {
        "cell": "f3d3a388-7e2a-4151-9b50-c20498fceacc",
        "part": "whole"
       },
       "id": "3bba644a-cf4d-4a49-9fbd-e2554428cf9f"
      }
     }
    },
    "8104def2-4b68-44a0-8f1b-b03bf3b2a079": {
     "id": "8104def2-4b68-44a0-8f1b-b03bf3b2a079",
     "prev": "28b43202-5690-4169-9aca-6b9dabfeb3ec",
     "regions": {
      "7dded777-1ddf-4100-99ae-25cf1c15b575": {
       "attrs": {
        "height": 0.8,
        "width": 0.8,
        "x": 0.1,
        "y": 0.1
       },
       "content": {
        "cell": "fe47bd48-3414-4657-92e7-8b8d6cb0df00",
        "part": "whole"
       },
       "id": "7dded777-1ddf-4100-99ae-25cf1c15b575"
      }
     }
    }
   },
   "themes": {}
  },
  "toc": {
   "navigate_menu": true,
   "number_sections": true,
   "sideBar": true,
   "threshold": 6,
   "toc_cell": false,
   "toc_section_display": "block",
   "toc_window_display": false
  },
  "widgets": {
   "state": {},
   "version": "1.1.2"
  }
 },
 "nbformat": 4,
 "nbformat_minor": 0
}
