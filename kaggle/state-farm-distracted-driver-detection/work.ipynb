{
 "cells": [
  {
   "cell_type": "code",
   "execution_count": null,
   "metadata": {
    "collapsed": false
   },
   "outputs": [],
   "source": [
    "%ls"
   ]
  },
  {
   "cell_type": "code",
   "execution_count": null,
   "metadata": {
    "collapsed": false
   },
   "outputs": [],
   "source": [
    "%mkdir -p data/valid\n",
    "%mkdir -p data/sample\n",
    "%mkdir -p data/sample/test/unknown\n",
    "%cd data/train"
   ]
  },
  {
   "cell_type": "code",
   "execution_count": null,
   "metadata": {
    "collapsed": false
   },
   "outputs": [],
   "source": [
    "from shutil import copyfile\n",
    "def copy(files, path, destination_folder):\n",
    "    for file in files:\n",
    "        current_file = \"./\" + path + \"/\" + file\n",
    "        destination_file = destination_folder + \"/\" + file\n",
    "        print(current_file, \"->\", destination_file)\n",
    "        print(\"cp -p \" + current_file + \" \" + destination_file)\n",
    "        copyfile(current_file, destination_file)    "
   ]
  },
  {
   "cell_type": "code",
   "execution_count": null,
   "metadata": {
    "collapsed": false
   },
   "outputs": [],
   "source": [
    "import os\n",
    "import math\n",
    "import numpy as np\n",
    "from subprocess import call\n",
    "import csv\n",
    "from itertools import groupby\n",
    "\n",
    "sample_rate = 0.10"
   ]
  },
  {
   "cell_type": "code",
   "execution_count": null,
   "metadata": {
    "collapsed": false
   },
   "outputs": [],
   "source": [
    "test_files = list(os.listdir(\"../test/unknown\"))\n",
    "sample_size = len(test_files) * sample_rate\n",
    "test_files = np.random.choice(test_files, sample_size)\n",
    "test_files_path = \"../sample/test/unknown\"\n",
    "copy(test_files, \"../test/unknown\", test_files_path)"
   ]
  },
  {
   "cell_type": "code",
   "execution_count": null,
   "metadata": {
    "collapsed": false
   },
   "outputs": [],
   "source": [
    "img_list_file = open(\"../../driver_imgs_list.csv\", \"r\")\n",
    "img_list = list(csv.reader(img_list_file, delimiter=\",\"))[1:]\n",
    "drivers = groupby(img_list, lambda x: x[0])"
   ]
  },
  {
   "cell_type": "code",
   "execution_count": null,
   "metadata": {
    "collapsed": false
   },
   "outputs": [],
   "source": [
    "valid_destination_folder = \"../sample/valid/\"\n",
    "train_destination_folder = \"../sample/train/\"\n",
    "\n",
    "def copy_driver(driver, destination_path):\n",
    "    driver_actions = groupby(driver[1], lambda x: x[1])\n",
    "    driver_name = driver[0]\n",
    "    for action in driver_actions:\n",
    "        action_name = action[0]\n",
    "        image_names = map(lambda x: x[2], action[1])\n",
    "        destination_folder = destination_path + action_name\n",
    "#         total_size = len(image_names)\n",
    "#         sample_size = math.floor(total_size * sample_rate)\n",
    "#         file_names = np.random.choice(image_names, sample_size)\n",
    "\n",
    "        print(\"Driver\", driver_name, action_name, len(image_names))\n",
    "\n",
    "        print(\"File_names\", image_names)\n",
    "        call(\"mkdir -p \" + destination_folder + \"/\" + action_name, shell=True)\n",
    "        copy(image_names, action_name, destination_folder)\n",
    "\n",
    "index = 0\n",
    "for driver in drivers:\n",
    "    if index < 10:\n",
    "        copy_driver(driver, train_destination_folder)\n",
    "    elif index > 10 and index < 13:\n",
    "        copy_driver(driver, valid_destination_folder)\n",
    "    index = index + 1"
   ]
  },
  {
   "cell_type": "code",
   "execution_count": null,
   "metadata": {
    "collapsed": false
   },
   "outputs": [],
   "source": [
    "%cd ../.."
   ]
  },
  {
   "cell_type": "code",
   "execution_count": null,
   "metadata": {
    "collapsed": false
   },
   "outputs": [],
   "source": [
    "%mkdir -p results\n",
    "%ls"
   ]
  },
  {
   "cell_type": "code",
   "execution_count": 1,
   "metadata": {
    "collapsed": false
   },
   "outputs": [
    {
     "name": "stderr",
     "output_type": "stream",
     "text": [
      "Using Theano backend.\n",
      "Using gpu device 0: Tesla K80 (CNMeM is disabled, cuDNN 5103)\n",
      "/home/ubuntu/anaconda2/lib/python2.7/site-packages/theano/sandbox/cuda/__init__.py:600: UserWarning: Your cuDNN version is more recent than the one Theano officially supports. If you see any problems, try updating Theano or downgrading cuDNN to version 5.\n",
      "  warnings.warn(warn)\n"
     ]
    }
   ],
   "source": [
    "from model import Model as CNNModel\n",
    "from keras.preprocessing import image"
   ]
  },
  {
   "cell_type": "code",
   "execution_count": 2,
   "metadata": {
    "collapsed": false
   },
   "outputs": [],
   "source": [
    "cnn = CNNModel()"
   ]
  },
  {
   "cell_type": "code",
   "execution_count": 3,
   "metadata": {
    "collapsed": true
   },
   "outputs": [],
   "source": [
    "batch_size = 64\n",
    "path = \"./data/sample/\";"
   ]
  },
  {
   "cell_type": "code",
   "execution_count": 4,
   "metadata": {
    "collapsed": false
   },
   "outputs": [
    {
     "name": "stdout",
     "output_type": "stream",
     "text": [
      "Found 10043 images belonging to 10 classes.\n",
      "Found 1315 images belonging to 10 classes.\n",
      "Found 7586 images belonging to 1 classes.\n"
     ]
    }
   ],
   "source": [
    "train_batches = cnn.get_batches(path + \"train\", batch_size=batch_size, gen=image.ImageDataGenerator(rotation_range=10))\n",
    "valid_batches = cnn.get_batches(path + \"valid\", batch_size=batch_size, shuffle=False)\n",
    "test_batches  = cnn.get_batches(path + \"test\", batch_size=batch_size, shuffle=False)"
   ]
  },
  {
   "cell_type": "code",
   "execution_count": null,
   "metadata": {
    "collapsed": false
   },
   "outputs": [],
   "source": [
    "cnn.finetune(train_batches)"
   ]
  },
  {
   "cell_type": "code",
   "execution_count": null,
   "metadata": {
    "collapsed": false
   },
   "outputs": [
    {
     "name": "stdout",
     "output_type": "stream",
     "text": [
      "Epoch 1/1\n",
      " 2304/10043 [=====>........................] - ETA: 713s - loss: 14.1540 - acc: 0.1050"
     ]
    }
   ],
   "source": [
    "cnn.fit(train_batches, valid_batches, nb_epoch=1)"
   ]
  },
  {
   "cell_type": "code",
   "execution_count": null,
   "metadata": {
    "collapsed": false
   },
   "outputs": [],
   "source": [
    "predictions = cnn.model.predict_generator(test_batches, len(test_batches.filenames), max_q_size=batch_size*2)"
   ]
  },
  {
   "cell_type": "code",
   "execution_count": null,
   "metadata": {
    "collapsed": false
   },
   "outputs": [],
   "source": [
    "for p in predictions:\n",
    "    print(p) "
   ]
  },
  {
   "cell_type": "code",
   "execution_count": null,
   "metadata": {
    "collapsed": true
   },
   "outputs": [],
   "source": []
  }
 ],
 "metadata": {
  "anaconda-cloud": {},
  "kernelspec": {
   "display_name": "Python [conda root]",
   "language": "python",
   "name": "conda-root-py"
  },
  "language_info": {
   "codemirror_mode": {
    "name": "ipython",
    "version": 2
   },
   "file_extension": ".py",
   "mimetype": "text/x-python",
   "name": "python",
   "nbconvert_exporter": "python",
   "pygments_lexer": "ipython2",
   "version": "2.7.12"
  }
 },
 "nbformat": 4,
 "nbformat_minor": 1
}
